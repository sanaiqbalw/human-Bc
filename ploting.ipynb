{
 "cells": [
  {
   "cell_type": "code",
   "execution_count": null,
   "metadata": {
    "collapsed": true
   },
   "outputs": [],
   "source": [
    "import pandas as pd\n",
    "import matplotlib.pyplot as plt\n",
    "# %matplotlib inline"
   ]
  },
  {
   "cell_type": "code",
   "execution_count": null,
   "metadata": {},
   "outputs": [],
   "source": [
    "dataset=pd.read_csv('../humanoid.csv')\n",
    "dataset.head()\n"
   ]
  },
  {
   "cell_type": "code",
   "execution_count": null,
   "metadata": {},
   "outputs": [],
   "source": [
    "# color = { 'bc':'red', 'pg1':'blue', 'pg2':'black', 'pg3':'green','pg4':'purple' ,'pg5':'aqua' }\n",
    "bc=dataset[dataset['name']=='bc']\n",
    "pg1=dataset[dataset['name']=='pg1']\n",
    "pg2=dataset[dataset['name']=='pg2']\n",
    "pg3=dataset[dataset['name']=='pg3']\n",
    "pg4=dataset[dataset['name']=='pg4']\n",
    "pg5=dataset[dataset['name']=='pg5']\n",
    "\n",
    "\n",
    "\n",
    "\n",
    "plt.figure(figsize=(5,5),dpi=100)\n",
    "\n",
    "color = ['red', 'blue','black','green','purple' ,'aqua']\n",
    "n = ['bc','pg1', 'pg2', 'pg3','pg4' ,'pg5']\n",
    "\n",
    "\n",
    "\n",
    "for i, df in enumerate([bc,pg1,pg2,pg3,pg4,pg5]):\n",
    "    if len(df)>0:\n",
    "        iteration=df.iteration\n",
    "        loss_action=df.loss_action\n",
    "        reward=df.reward\n",
    "        name=df.name\n",
    "        weighted_loss=df.weighted_loss\n",
    "        plt.plot(iteration,loss_action, label=n[i]+'_loss',linestyle='-',c=color[i],linewidth=2)\n",
    "\n",
    "    \n",
    "plt.xlabel('iteration')\n",
    "plt.ylabel('loss')\n",
    "# plt.ticklabel_format(style='sci', axis='x', scilimits=(0,0))\n",
    "plt.legend(bbox_to_anchor=((0., -.14, 1., 0)))\n",
    "plt.title('Humanoid',fontsize=10)\n",
    "#     plt.xlabel(xlab)\n",
    "#     plt.ylabel(ylab)\n",
    "#     plt.legend()\n",
    "plt.show()\n",
    "\n",
    "\n",
    "\n",
    "\n",
    "plt.figure(figsize=(5,5),dpi=100)\n",
    "\n",
    "for i, df in enumerate([bc,pg1,pg2,pg3,pg4,pg5]):\n",
    "    if len(df)>0:\n",
    "\n",
    "        iteration=df.iteration\n",
    "        loss_action=df.loss_action\n",
    "        reward=df.reward\n",
    "        name=df.name\n",
    "        weighted_loss=df.weighted_loss\n",
    "        plt.plot(iteration,reward,label=n[i]+'_Mean Reward',linestyle='-',c=color[i],linewidth=2)\n",
    "\n",
    "plt.xlabel('iteration')\n",
    "plt.ylabel('Rewards')\n",
    "# plt.ticklabel_format(style='sci', axis='x', scilimits=(0,0))\n",
    "plt.legend(bbox_to_anchor=((0., -.14, 1., 0)))\n",
    "plt.title('Humanoid',fontsize=10)\n",
    "#     plt.xlabel(xlab)\n",
    "#     plt.ylabel(ylab)\n",
    "#     plt.legend()\n",
    "plt.show()\n",
    "    \n",
    "    \n",
    "    \n",
    "\n",
    "#         color=colormap[counter],"
   ]
  },
  {
   "cell_type": "markdown",
   "metadata": {},
   "source": []
  },
  {
   "cell_type": "code",
   "execution_count": null,
   "metadata": {
    "collapsed": true
   },
   "outputs": [],
   "source": []
  },
  {
   "cell_type": "code",
   "execution_count": null,
   "metadata": {
    "collapsed": true
   },
   "outputs": [],
   "source": []
  },
  {
   "cell_type": "code",
   "execution_count": null,
   "metadata": {
    "collapsed": true
   },
   "outputs": [],
   "source": []
  },
  {
   "cell_type": "code",
   "execution_count": null,
   "metadata": {
    "collapsed": true
   },
   "outputs": [],
   "source": []
  }
 ],
 "metadata": {
  "kernelspec": {
   "display_name": "Python 3",
   "language": "python",
   "name": "python3"
  },
  "language_info": {
   "codemirror_mode": {
    "name": "ipython",
    "version": 3
   },
   "file_extension": ".py",
   "mimetype": "text/x-python",
   "name": "python",
   "nbconvert_exporter": "python",
   "pygments_lexer": "ipython3",
   "version": "3.5.4"
  }
 },
 "nbformat": 4,
 "nbformat_minor": 2
}
